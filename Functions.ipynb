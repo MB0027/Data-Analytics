{
  "nbformat": 4,
  "nbformat_minor": 0,
  "metadata": {
    "colab": {
      "provenance": [],
      "include_colab_link": true
    },
    "kernelspec": {
      "name": "python3",
      "display_name": "Python 3"
    },
    "language_info": {
      "name": "python"
    }
  },
  "cells": [
    {
      "cell_type": "markdown",
      "metadata": {
        "id": "view-in-github",
        "colab_type": "text"
      },
      "source": [
        "<a href=\"https://colab.research.google.com/github/MB0027/Data-Analytics/blob/Data-Analytics/Functions.ipynb\" target=\"_parent\"><img src=\"https://colab.research.google.com/assets/colab-badge.svg\" alt=\"Open In Colab\"/></a>"
      ]
    },
    {
      "cell_type": "markdown",
      "source": [
        "Take 2 numbers a & b and display the summation (usimg build in functions)"
      ],
      "metadata": {
        "id": "jRKt3njInE8u"
      }
    },
    {
      "cell_type": "code",
      "source": [
        "a=10\n",
        "b=20\n",
        "c=a+b\n",
        "print(c)"
      ],
      "metadata": {
        "colab": {
          "base_uri": "https://localhost:8080/"
        },
        "id": "rveupwAVwwSd",
        "outputId": "8ab5d479-05fb-4dd1-c82c-9e573fcde502"
      },
      "execution_count": null,
      "outputs": [
        {
          "output_type": "stream",
          "name": "stdout",
          "text": [
            "30\n"
          ]
        }
      ]
    },
    {
      "cell_type": "code",
      "source": [
        "a=15\n",
        "b=5\n",
        "c=a+b\n",
        "print(c)\n"
      ],
      "metadata": {
        "colab": {
          "base_uri": "https://localhost:8080/"
        },
        "id": "v-mFGkHpxTqm",
        "outputId": "674c06d0-4d4b-4a73-cab7-7e7383b12500"
      },
      "execution_count": null,
      "outputs": [
        {
          "output_type": "stream",
          "name": "stdout",
          "text": [
            "20\n"
          ]
        }
      ]
    },
    {
      "cell_type": "code",
      "source": [
        "a=-7\n",
        "b=-12\n",
        "c=a+b\n",
        "print(c)"
      ],
      "metadata": {
        "colab": {
          "base_uri": "https://localhost:8080/"
        },
        "id": "Qi1uqRSMx8Kt",
        "outputId": "23dd6daa-fc06-4950-db9e-660143b61b7d"
      },
      "execution_count": null,
      "outputs": [
        {
          "output_type": "stream",
          "name": "stdout",
          "text": [
            "-19\n"
          ]
        }
      ]
    },
    {
      "cell_type": "markdown",
      "source": [
        "As we keep on changing the value of a and b we are doing repeative task instead we can follow the approach of functions"
      ],
      "metadata": {
        "id": "qqJxoU0vyODa"
      }
    },
    {
      "cell_type": "code",
      "source": [
        "def add(a,b):\n",
        " c=a+b\n",
        "print(c)\n"
      ],
      "metadata": {
        "colab": {
          "base_uri": "https://localhost:8080/"
        },
        "id": "rzQdOUxezh78",
        "outputId": "0509f4ad-7f4c-4578-d10a-eaa68b1115e3"
      },
      "execution_count": null,
      "outputs": [
        {
          "output_type": "stream",
          "name": "stdout",
          "text": [
            "-19\n"
          ]
        }
      ]
    },
    {
      "cell_type": "code",
      "source": [
        "def add(a,b):\n",
        "  c=a+b\n",
        "  print(c)"
      ],
      "metadata": {
        "id": "JMDvOquJ0wHp"
      },
      "execution_count": null,
      "outputs": []
    },
    {
      "cell_type": "code",
      "source": [
        "add(11,9)"
      ],
      "metadata": {
        "colab": {
          "base_uri": "https://localhost:8080/"
        },
        "id": "ZYE6-76zxC-U",
        "outputId": "dad9dc15-fc93-40ff-bffe-ba13342873d4"
      },
      "execution_count": null,
      "outputs": [
        {
          "output_type": "stream",
          "name": "stdout",
          "text": [
            "20\n"
          ]
        }
      ]
    },
    {
      "cell_type": "code",
      "source": [
        "add(-7,5)"
      ],
      "metadata": {
        "colab": {
          "base_uri": "https://localhost:8080/"
        },
        "id": "jjL15S0jxJUL",
        "outputId": "36ec3392-6e4f-493e-8681-527d28369399"
      },
      "execution_count": null,
      "outputs": [
        {
          "output_type": "stream",
          "name": "stdout",
          "text": [
            "-2\n"
          ]
        }
      ]
    },
    {
      "cell_type": "code",
      "source": [
        "add(10,20)"
      ],
      "metadata": {
        "colab": {
          "base_uri": "https://localhost:8080/"
        },
        "id": "o4Niv1qMxNJ_",
        "outputId": "212e094e-8fbd-4488-8ea0-f00f678aefb9"
      },
      "execution_count": null,
      "outputs": [
        {
          "output_type": "stream",
          "name": "stdout",
          "text": [
            "30\n"
          ]
        }
      ]
    },
    {
      "cell_type": "markdown",
      "source": [
        "Create a funtion which adds two numbers"
      ],
      "metadata": {
        "id": "8ytBGqAjxnz1"
      }
    },
    {
      "cell_type": "code",
      "source": [
        "def add(a,b):\n",
        "    c=a+b\n",
        "    print(c)"
      ],
      "metadata": {
        "id": "28Rrss-_x5Dh"
      },
      "execution_count": null,
      "outputs": []
    },
    {
      "cell_type": "code",
      "source": [
        "add(1,3)"
      ],
      "metadata": {
        "colab": {
          "base_uri": "https://localhost:8080/"
        },
        "id": "9mxC83FDyO5p",
        "outputId": "d408f0d3-626c-40a9-a18e-e82622be3b21"
      },
      "execution_count": null,
      "outputs": [
        {
          "output_type": "stream",
          "name": "stdout",
          "text": [
            "4\n"
          ]
        }
      ]
    },
    {
      "cell_type": "code",
      "source": [
        "add(-7,-5)"
      ],
      "metadata": {
        "colab": {
          "base_uri": "https://localhost:8080/"
        },
        "id": "SpnStFS_ySdT",
        "outputId": "9921fad8-aa08-4789-fc8b-2d6dda5a14f0"
      },
      "execution_count": null,
      "outputs": [
        {
          "output_type": "stream",
          "name": "stdout",
          "text": [
            "-12\n"
          ]
        }
      ]
    },
    {
      "cell_type": "markdown",
      "source": [
        "Create a funtion which adds 3 numbers"
      ],
      "metadata": {
        "id": "lpilIOvLycQQ"
      }
    },
    {
      "cell_type": "code",
      "source": [
        "def sum(x,y,z):\n",
        "    p=(x+y+z)\n",
        "    print(p)"
      ],
      "metadata": {
        "id": "BWa04aF4y0q_"
      },
      "execution_count": null,
      "outputs": []
    },
    {
      "cell_type": "code",
      "source": [
        "sum(2,3,4)"
      ],
      "metadata": {
        "colab": {
          "base_uri": "https://localhost:8080/"
        },
        "id": "DjUJhG_FzG7W",
        "outputId": "5ec2d6a4-f710-475e-fe90-3adf34b72b5a"
      },
      "execution_count": null,
      "outputs": [
        {
          "output_type": "stream",
          "name": "stdout",
          "text": [
            "9\n"
          ]
        }
      ]
    },
    {
      "cell_type": "markdown",
      "source": [
        "Create a funtion which subtracts 3 numbers"
      ],
      "metadata": {
        "id": "eavkYLGpzMu8"
      }
    },
    {
      "cell_type": "code",
      "source": [
        "def sub(x,y,z):\n",
        "  p=(x-y-z)\n",
        "  print(p)"
      ],
      "metadata": {
        "id": "4QDv7R1YzXTx"
      },
      "execution_count": null,
      "outputs": []
    },
    {
      "cell_type": "code",
      "source": [
        "sub(3,7,9)"
      ],
      "metadata": {
        "colab": {
          "base_uri": "https://localhost:8080/"
        },
        "id": "oZo6NxLezkHo",
        "outputId": "0a6cdb89-c0f9-4145-8cbb-8ed7856cdb08"
      },
      "execution_count": null,
      "outputs": [
        {
          "output_type": "stream",
          "name": "stdout",
          "text": [
            "-13\n"
          ]
        }
      ]
    },
    {
      "cell_type": "markdown",
      "source": [
        "Create a funtion which adds, subtracts, multiply and divides two numbers"
      ],
      "metadata": {
        "id": "6UqZCKrw1Uy9"
      }
    },
    {
      "cell_type": "code",
      "source": [
        "def compute(a,b):\n",
        "  c=(a+b)\n",
        "  d=(a-b)\n",
        "  e=(a*b)\n",
        "  f=(a/b)\n",
        "  print(c,d,e,f)"
      ],
      "metadata": {
        "id": "4ueBhN6F1iT6"
      },
      "execution_count": null,
      "outputs": []
    },
    {
      "cell_type": "code",
      "source": [
        "compute (5,2)"
      ],
      "metadata": {
        "colab": {
          "base_uri": "https://localhost:8080/"
        },
        "id": "l5O9lQfX2B0q",
        "outputId": "6bc7f7c6-04b3-407d-c0bb-7ed8813f1d8f"
      },
      "execution_count": null,
      "outputs": [
        {
          "output_type": "stream",
          "name": "stdout",
          "text": [
            "7 3 10 2.5\n"
          ]
        }
      ]
    },
    {
      "cell_type": "markdown",
      "source": [
        "Create a funtion which takes name and age as input from the user & display the age of the user."
      ],
      "metadata": {
        "id": "OKVwBA_d2Qgm"
      }
    },
    {
      "cell_type": "code",
      "source": [
        "def info(name,age):\n",
        "  print(\"your age is\",age)"
      ],
      "metadata": {
        "id": "SAqE54mH2dg5"
      },
      "execution_count": null,
      "outputs": []
    },
    {
      "cell_type": "code",
      "source": [
        "info(\"Meera\",24)"
      ],
      "metadata": {
        "colab": {
          "base_uri": "https://localhost:8080/"
        },
        "id": "DNkBrDY421Hg",
        "outputId": "4be34a76-49ad-4a10-e2fa-ff471aad30e3"
      },
      "execution_count": null,
      "outputs": [
        {
          "output_type": "stream",
          "name": "stdout",
          "text": [
            "your age is 24\n"
          ]
        }
      ]
    },
    {
      "cell_type": "code",
      "source": [
        "info(\"Rajat\",32)"
      ],
      "metadata": {
        "colab": {
          "base_uri": "https://localhost:8080/"
        },
        "id": "z3vh-8Qv28vF",
        "outputId": "9b071e0f-b3a6-4a0a-d5cc-2a8eea003d77"
      },
      "execution_count": null,
      "outputs": [
        {
          "output_type": "stream",
          "name": "stdout",
          "text": [
            "your age is 32\n"
          ]
        }
      ]
    },
    {
      "cell_type": "markdown",
      "source": [
        "Create a funtion which takes name and salary as input from the user and display the salary of the user"
      ],
      "metadata": {
        "id": "Hfj9YL1l3KBH"
      }
    },
    {
      "cell_type": "code",
      "source": [
        "def data(name,salary):\n",
        "  print(\"your salary is\",salary)"
      ],
      "metadata": {
        "id": "doEUOiL43XIG"
      },
      "execution_count": null,
      "outputs": []
    },
    {
      "cell_type": "code",
      "source": [
        "  data('Rajesh',50000)"
      ],
      "metadata": {
        "colab": {
          "base_uri": "https://localhost:8080/"
        },
        "id": "hndm23Nr3jIT",
        "outputId": "677d9efc-4f04-4ab0-9647-ae4e094c5dfd"
      },
      "execution_count": null,
      "outputs": [
        {
          "output_type": "stream",
          "name": "stdout",
          "text": [
            "your salary is 50000\n"
          ]
        }
      ]
    },
    {
      "cell_type": "markdown",
      "source": [
        "Create a function which computes the area and circumference of the circle\n",
        "Formula:-\n",
        "Circumference=2pi/r\n",
        "Area=pi*r*2"
      ],
      "metadata": {
        "id": "9nJYuho96FjQ"
      }
    },
    {
      "cell_type": "code",
      "source": [
        "def circle(r):\n",
        "  area=3.14*r*2\n",
        "  circum=2*3.14*r"
      ],
      "metadata": {
        "id": "v7x-UyKE6evX"
      },
      "execution_count": null,
      "outputs": []
    },
    {
      "cell_type": "code",
      "source": [
        " Print(\"area of the circle is\",area\"units and circumference is\",circum,\"units\")"
      ],
      "metadata": {
        "colab": {
          "base_uri": "https://localhost:8080/",
          "height": 106
        },
        "id": "TamEB7a1VWPI",
        "outputId": "9bdf0379-e398-4863-eae0-055dbdfe7a04"
      },
      "execution_count": null,
      "outputs": [
        {
          "output_type": "error",
          "ename": "SyntaxError",
          "evalue": "invalid syntax (<ipython-input-32-ebd8cad12e12>, line 1)",
          "traceback": [
            "\u001b[0;36m  File \u001b[0;32m\"<ipython-input-32-ebd8cad12e12>\"\u001b[0;36m, line \u001b[0;32m1\u001b[0m\n\u001b[0;31m    Print(\"area of the circle is\",area\"units and circumference is\",circum,\"units\")\u001b[0m\n\u001b[0m                                      ^\u001b[0m\n\u001b[0;31mSyntaxError\u001b[0m\u001b[0;31m:\u001b[0m invalid syntax\n"
          ]
        }
      ]
    }
  ]
}