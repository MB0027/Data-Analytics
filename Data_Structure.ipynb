{
  "nbformat": 4,
  "nbformat_minor": 0,
  "metadata": {
    "colab": {
      "provenance": [],
      "authorship_tag": "ABX9TyM3/XyTwxcPOyq9+h4Ajr8l",
      "include_colab_link": true
    },
    "kernelspec": {
      "name": "python3",
      "display_name": "Python 3"
    },
    "language_info": {
      "name": "python"
    }
  },
  "cells": [
    {
      "cell_type": "markdown",
      "metadata": {
        "id": "view-in-github",
        "colab_type": "text"
      },
      "source": [
        "<a href=\"https://colab.research.google.com/github/MB0027/Data-Analytics/blob/Data-Analytics/Data_Structure.ipynb\" target=\"_parent\"><img src=\"https://colab.research.google.com/assets/colab-badge.svg\" alt=\"Open In Colab\"/></a>"
      ]
    },
    {
      "cell_type": "markdown",
      "source": [
        "Dictionaries"
      ],
      "metadata": {
        "id": "Y9q4wHVAvrUH"
      }
    },
    {
      "cell_type": "code",
      "execution_count": 1,
      "metadata": {
        "id": "yzm9UbE3tXfd"
      },
      "outputs": [],
      "source": [
        "\n",
        "memo={'notebook':90, 'pens':100, 'cold drinks':120, 'chips':20}"
      ]
    },
    {
      "cell_type": "code",
      "source": [
        "print(memo)"
      ],
      "metadata": {
        "id": "1sAPh_L5vuWz",
        "colab": {
          "base_uri": "https://localhost:8080/"
        },
        "outputId": "fe0c4693-4f2f-4ca0-f0e7-481f12dadec2"
      },
      "execution_count": 2,
      "outputs": [
        {
          "output_type": "stream",
          "name": "stdout",
          "text": [
            "{'notebook': 90, 'pens': 100, 'cold drinks': 120, 'chips': 20}\n"
          ]
        }
      ]
    },
    {
      "cell_type": "code",
      "source": [
        "type(memo)"
      ],
      "metadata": {
        "id": "3qPe4cRUxNTC",
        "colab": {
          "base_uri": "https://localhost:8080/"
        },
        "outputId": "ad542e61-7586-4f0b-da27-2be93e46807d"
      },
      "execution_count": 3,
      "outputs": [
        {
          "output_type": "execute_result",
          "data": {
            "text/plain": [
              "dict"
            ]
          },
          "metadata": {},
          "execution_count": 3
        }
      ]
    },
    {
      "cell_type": "markdown",
      "source": [
        "#in order to fetch value we use name of keys and not a index number"
      ],
      "metadata": {
        "id": "fUkBivnW0m8X"
      }
    },
    {
      "cell_type": "code",
      "source": [
        "memo['chips']"
      ],
      "metadata": {
        "colab": {
          "base_uri": "https://localhost:8080/"
        },
        "id": "mrGfQHrV04ld",
        "outputId": "64505b76-e828-405d-b0bc-7bd47c25cbed"
      },
      "execution_count": 4,
      "outputs": [
        {
          "output_type": "execute_result",
          "data": {
            "text/plain": [
              "20"
            ]
          },
          "metadata": {},
          "execution_count": 4
        }
      ]
    },
    {
      "cell_type": "code",
      "source": [
        "memo['pens']"
      ],
      "metadata": {
        "colab": {
          "base_uri": "https://localhost:8080/"
        },
        "id": "cWJvpsGQ1MPs",
        "outputId": "b40ba99d-51b8-4fcc-dc2e-63ab132ec19e"
      },
      "execution_count": 5,
      "outputs": [
        {
          "output_type": "execute_result",
          "data": {
            "text/plain": [
              "100"
            ]
          },
          "metadata": {},
          "execution_count": 5
        }
      ]
    },
    {
      "cell_type": "markdown",
      "source": [
        "#In dict, slicing is not supported"
      ],
      "metadata": {
        "id": "LOWhudA81htu"
      }
    },
    {
      "cell_type": "code",
      "source": [
        "#Adding new key value pair to the dict\n",
        "memo['ice cream']=80"
      ],
      "metadata": {
        "id": "JigRv91d2Hef"
      },
      "execution_count": 6,
      "outputs": []
    },
    {
      "cell_type": "code",
      "source": [
        "print(memo)"
      ],
      "metadata": {
        "colab": {
          "base_uri": "https://localhost:8080/"
        },
        "id": "tLg7UL862vA-",
        "outputId": "0492c19c-5edf-4413-9014-97f3c5f3ad9a"
      },
      "execution_count": 7,
      "outputs": [
        {
          "output_type": "stream",
          "name": "stdout",
          "text": [
            "{'notebook': 90, 'pens': 100, 'cold drinks': 120, 'chips': 20, 'ice cream': 80}\n"
          ]
        }
      ]
    },
    {
      "cell_type": "code",
      "source": [
        "memo['bread']=40"
      ],
      "metadata": {
        "id": "SlHTT7Bj3Kbz"
      },
      "execution_count": 8,
      "outputs": []
    },
    {
      "cell_type": "code",
      "source": [
        "print(memo)"
      ],
      "metadata": {
        "colab": {
          "base_uri": "https://localhost:8080/"
        },
        "id": "RMs8Mqu53XaD",
        "outputId": "87041abb-09a2-4665-f04d-bae036f0c16e"
      },
      "execution_count": 9,
      "outputs": [
        {
          "output_type": "stream",
          "name": "stdout",
          "text": [
            "{'notebook': 90, 'pens': 100, 'cold drinks': 120, 'chips': 20, 'ice cream': 80, 'bread': 40}\n"
          ]
        }
      ]
    },
    {
      "cell_type": "markdown",
      "source": [
        "#It is also possible to modify value in the dict, for example if the price of cold drinks is not 120 rupees but 70 rupees so we can modify in following method."
      ],
      "metadata": {
        "id": "b3QpA8P03j5i"
      }
    },
    {
      "cell_type": "code",
      "source": [
        "memo['cold drinks']=70"
      ],
      "metadata": {
        "id": "vY5FWrtj4H3h"
      },
      "execution_count": 10,
      "outputs": []
    },
    {
      "cell_type": "code",
      "source": [
        "print(memo)"
      ],
      "metadata": {
        "colab": {
          "base_uri": "https://localhost:8080/"
        },
        "id": "bVrAieTE4S1N",
        "outputId": "7bacec4a-4fd8-4257-a055-b69328c51ce8"
      },
      "execution_count": 11,
      "outputs": [
        {
          "output_type": "stream",
          "name": "stdout",
          "text": [
            "{'notebook': 90, 'pens': 100, 'cold drinks': 70, 'chips': 20, 'ice cream': 80, 'bread': 40}\n"
          ]
        }
      ]
    },
    {
      "cell_type": "code",
      "source": [
        "#If we have to delete a key word and its value then we'll do as follow\n",
        "del memo['notebook']"
      ],
      "metadata": {
        "id": "NlMlsdY1YTlp"
      },
      "execution_count": 12,
      "outputs": []
    },
    {
      "cell_type": "code",
      "source": [
        "print(memo)"
      ],
      "metadata": {
        "colab": {
          "base_uri": "https://localhost:8080/"
        },
        "id": "cTcEN68MZdri",
        "outputId": "3b2274d6-dd38-4b82-e43e-1f69ba2654b4"
      },
      "execution_count": 13,
      "outputs": [
        {
          "output_type": "stream",
          "name": "stdout",
          "text": [
            "{'pens': 100, 'cold drinks': 70, 'chips': 20, 'ice cream': 80, 'bread': 40}\n"
          ]
        }
      ]
    },
    {
      "cell_type": "markdown",
      "source": [
        "Tuple"
      ],
      "metadata": {
        "id": "Rh8RTw7ub2RC"
      }
    },
    {
      "cell_type": "code",
      "source": [
        "t=('india', 'USA', '80', '200','-451', '-45.98', '-9.8')"
      ],
      "metadata": {
        "id": "IxC3C6tcb48V"
      },
      "execution_count": 14,
      "outputs": []
    },
    {
      "cell_type": "code",
      "source": [
        "type(t)"
      ],
      "metadata": {
        "colab": {
          "base_uri": "https://localhost:8080/"
        },
        "id": "nYDEZ0F2gbnb",
        "outputId": "0326446b-139e-43e2-f3ba-dbe6d117d226"
      },
      "execution_count": 15,
      "outputs": [
        {
          "output_type": "execute_result",
          "data": {
            "text/plain": [
              "tuple"
            ]
          },
          "metadata": {},
          "execution_count": 15
        }
      ]
    },
    {
      "cell_type": "code",
      "source": [
        "t[1]"
      ],
      "metadata": {
        "colab": {
          "base_uri": "https://localhost:8080/",
          "height": 35
        },
        "id": "6dZOMNhfgiyd",
        "outputId": "c65ed273-559d-4c62-c7f7-dbf03827cea1"
      },
      "execution_count": 16,
      "outputs": [
        {
          "output_type": "execute_result",
          "data": {
            "text/plain": [
              "'USA'"
            ],
            "application/vnd.google.colaboratory.intrinsic+json": {
              "type": "string"
            }
          },
          "metadata": {},
          "execution_count": 16
        }
      ]
    },
    {
      "cell_type": "code",
      "source": [
        "t[5]"
      ],
      "metadata": {
        "colab": {
          "base_uri": "https://localhost:8080/",
          "height": 35
        },
        "id": "63FxkmUxgp_9",
        "outputId": "4369d46e-a8ce-48ef-a303-ec0cef091c2d"
      },
      "execution_count": 17,
      "outputs": [
        {
          "output_type": "execute_result",
          "data": {
            "text/plain": [
              "'-45.98'"
            ],
            "application/vnd.google.colaboratory.intrinsic+json": {
              "type": "string"
            }
          },
          "metadata": {},
          "execution_count": 17
        }
      ]
    },
    {
      "cell_type": "code",
      "source": [
        "t[0:3]"
      ],
      "metadata": {
        "colab": {
          "base_uri": "https://localhost:8080/"
        },
        "id": "kr9aCMO_gxL-",
        "outputId": "502d73d5-c6db-4db3-ad06-1a68aa3c01cd"
      },
      "execution_count": 18,
      "outputs": [
        {
          "output_type": "execute_result",
          "data": {
            "text/plain": [
              "('india', 'USA', '80')"
            ]
          },
          "metadata": {},
          "execution_count": 18
        }
      ]
    },
    {
      "cell_type": "code",
      "source": [
        "t[4:6]"
      ],
      "metadata": {
        "colab": {
          "base_uri": "https://localhost:8080/"
        },
        "id": "i7qXcl1Gg3cO",
        "outputId": "86320f61-bba9-4af1-c015-21e5275b9e4f"
      },
      "execution_count": 19,
      "outputs": [
        {
          "output_type": "execute_result",
          "data": {
            "text/plain": [
              "('-451', '-45.98')"
            ]
          },
          "metadata": {},
          "execution_count": 19
        }
      ]
    },
    {
      "cell_type": "code",
      "source": [
        "#new question regarding dictionary\n",
        "name={'aditya':1, 'chirag':2, 'kunal':3, 'zoya':4}"
      ],
      "metadata": {
        "id": "3-Cs9Ca-haw3"
      },
      "execution_count": 20,
      "outputs": []
    },
    {
      "cell_type": "code",
      "source": [
        "name['zoya']"
      ],
      "metadata": {
        "colab": {
          "base_uri": "https://localhost:8080/"
        },
        "id": "1hTI8U3FjxkM",
        "outputId": "18bd67a5-4c45-48b9-935b-265e5e9397b4"
      },
      "execution_count": 21,
      "outputs": [
        {
          "output_type": "execute_result",
          "data": {
            "text/plain": [
              "4"
            ]
          },
          "metadata": {},
          "execution_count": 21
        }
      ]
    },
    {
      "cell_type": "code",
      "source": [
        "name['zareen']=4"
      ],
      "metadata": {
        "id": "_hdqvUN-m8bE"
      },
      "execution_count": 22,
      "outputs": []
    },
    {
      "cell_type": "code",
      "source": [
        "print(name)"
      ],
      "metadata": {
        "colab": {
          "base_uri": "https://localhost:8080/"
        },
        "id": "yu9H_RFanDg3",
        "outputId": "345defcc-6998-475c-f5ec-203f42f1cbbe"
      },
      "execution_count": 23,
      "outputs": [
        {
          "output_type": "stream",
          "name": "stdout",
          "text": [
            "{'aditya': 1, 'chirag': 2, 'kunal': 3, 'zoya': 4, 'zareen': 4}\n"
          ]
        }
      ]
    },
    {
      "cell_type": "code",
      "source": [
        "del name['zoya']"
      ],
      "metadata": {
        "id": "FKpV32obnKWV"
      },
      "execution_count": 24,
      "outputs": []
    },
    {
      "cell_type": "code",
      "source": [
        "print(name)"
      ],
      "metadata": {
        "colab": {
          "base_uri": "https://localhost:8080/"
        },
        "id": "AdIgHmXGn_k-",
        "outputId": "56a2d527-be87-445f-c5f0-5c2fb7e10e4e"
      },
      "execution_count": 25,
      "outputs": [
        {
          "output_type": "stream",
          "name": "stdout",
          "text": [
            "{'aditya': 1, 'chirag': 2, 'kunal': 3, 'zareen': 4}\n"
          ]
        }
      ]
    },
    {
      "cell_type": "code",
      "source": [
        "name['meera']=5"
      ],
      "metadata": {
        "id": "YfqajMwToHyv"
      },
      "execution_count": 26,
      "outputs": []
    },
    {
      "cell_type": "code",
      "source": [
        "print(name)"
      ],
      "metadata": {
        "colab": {
          "base_uri": "https://localhost:8080/"
        },
        "id": "lmSDr42KoQ7s",
        "outputId": "79f462df-c60c-402f-c11a-b0b35f8f3c69"
      },
      "execution_count": 27,
      "outputs": [
        {
          "output_type": "stream",
          "name": "stdout",
          "text": [
            "{'aditya': 1, 'chirag': 2, 'kunal': 3, 'zareen': 4, 'meera': 5}\n"
          ]
        }
      ]
    },
    {
      "cell_type": "markdown",
      "source": [
        "sets immutable type"
      ],
      "metadata": {
        "id": "sTOiNp9hqYHn"
      }
    },
    {
      "cell_type": "code",
      "source": [
        "s={'india', 'USA', '80', '200','-451', '-45.98', '-9.8'}"
      ],
      "metadata": {
        "id": "M0jmREBsqZxP"
      },
      "execution_count": 28,
      "outputs": []
    },
    {
      "cell_type": "code",
      "source": [
        "type(s)"
      ],
      "metadata": {
        "colab": {
          "base_uri": "https://localhost:8080/"
        },
        "id": "N2uCCwY_tlJ6",
        "outputId": "21c011df-4f5e-4306-d3bc-e01897eeb5ab"
      },
      "execution_count": 29,
      "outputs": [
        {
          "output_type": "execute_result",
          "data": {
            "text/plain": [
              "set"
            ]
          },
          "metadata": {},
          "execution_count": 29
        }
      ]
    },
    {
      "cell_type": "code",
      "source": [
        "print(s)"
      ],
      "metadata": {
        "colab": {
          "base_uri": "https://localhost:8080/"
        },
        "id": "X7qH_Y7Rto6L",
        "outputId": "fe8dd6db-ae6d-4460-cf49-d654f690fc1b"
      },
      "execution_count": 30,
      "outputs": [
        {
          "output_type": "stream",
          "name": "stdout",
          "text": [
            "{'200', '-451', '-9.8', '80', '-45.98', 'india', 'USA'}\n"
          ]
        }
      ]
    },
    {
      "cell_type": "code",
      "source": [
        "print(1)"
      ],
      "metadata": {
        "colab": {
          "base_uri": "https://localhost:8080/"
        },
        "id": "9MZJLp1ouKGK",
        "outputId": "ede3a3cd-136e-447d-a864-8ef235687590"
      },
      "execution_count": 31,
      "outputs": [
        {
          "output_type": "stream",
          "name": "stdout",
          "text": [
            "1\n"
          ]
        }
      ]
    },
    {
      "cell_type": "code",
      "source": [],
      "metadata": {
        "id": "7zy-CUT0uJ1K"
      },
      "execution_count": 31,
      "outputs": []
    }
  ]
}